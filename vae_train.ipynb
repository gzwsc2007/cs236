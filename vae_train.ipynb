{
 "cells": [
  {
   "cell_type": "code",
   "execution_count": 1,
   "id": "83a1ffcf-8f71-4f4b-82fb-fc496a42c4a5",
   "metadata": {},
   "outputs": [],
   "source": [
    "import torch\n",
    "import plotly.graph_objects as go\n",
    "import plotly.express as px\n",
    "import matplotlib.pyplot as plt\n",
    "from torch.utils.data import DataLoader\n",
    "import tqdm\n",
    "\n",
    "import os\n",
    "import sys\n",
    "module_paths =  [\n",
    "    os.path.abspath(os.path.join('ronin/source'))  # RoNIN\n",
    "]\n",
    "for module_path in module_paths:\n",
    "    if module_path not in sys.path:\n",
    "        sys.path.append(module_path)\n",
    "\n",
    "import data_glob_speed\n",
    "import cnn_vae_model\n",
    "\n",
    "device = torch.device('cuda' if torch.cuda.is_available() else 'cpu')"
   ]
  },
  {
   "cell_type": "code",
   "execution_count": 2,
   "id": "327b904e-5172-4ff0-8808-967d078df49e",
   "metadata": {},
   "outputs": [],
   "source": [
    "def plot_np_multi(xy_dict, xlabel='time (s)'):\n",
    "    fig = go.Figure()\n",
    "    for name, (x, y) in xy_dict.items():\n",
    "        fig.add_trace(go.Scatter(x=x, y=y, name=name))\n",
    "    fig.update_layout(xaxis_title=xlabel)\n",
    "    fig.show()\n",
    "\n",
    "def save_model_by_name(model, epoch):\n",
    "    save_dir = os.path.join('checkpoints', model.name)\n",
    "    if not os.path.exists(save_dir):\n",
    "        os.makedirs(save_dir)\n",
    "    file_path = os.path.join(save_dir, 'model-{:05d}.pt'.format(epoch))\n",
    "    state = model.state_dict()\n",
    "    torch.save(state, file_path)\n",
    "    print('Saved to {}'.format(file_path))"
   ]
  },
  {
   "cell_type": "markdown",
   "id": "76854ab4-8429-4b51-a662-0d5a163b8312",
   "metadata": {},
   "source": [
    "# Data loading"
   ]
  },
  {
   "cell_type": "code",
   "execution_count": 3,
   "id": "0cd0d015-8795-4bf2-81c9-7a623ad50642",
   "metadata": {},
   "outputs": [],
   "source": [
    "DATA_ROOT_DIR = 'datasets/Ronin/train_dataset_1'\n",
    "with open('ronin/train_list.txt') as f:\n",
    "    data_list = [s.strip().split(',' or ' ')[0] for s in f.readlines() if len(s) > 0 and s[0] != '#']\n",
    "\n",
    "# Each item in the dataset is a (feature, target, seq_id, frame_id) tuple.\n",
    "# Each feature is a 6x200 array. Rows 0-2 are gyro, and rows 3-5 are accel (non gravity subtracted).\n",
    "# Both gyro and accels are in a gravity-aligned world frame (arbitrary yaw, but consistent throughout\n",
    "# the 200 frames)\n",
    "dataset = data_glob_speed.StridedSequenceDataset(data_glob_speed.GlobSpeedSequence,\n",
    "                                                 DATA_ROOT_DIR,\n",
    "                                                 data_list,\n",
    "                                                 cache_path='ronin/train_data_cache')\n",
    "train_loader = DataLoader(dataset, batch_size=128, shuffle=True)"
   ]
  },
  {
   "cell_type": "code",
   "execution_count": 4,
   "id": "e3140ac5-afdd-4954-b1c6-3818e808757c",
   "metadata": {},
   "outputs": [],
   "source": [
    "model = cnn_vae_model.CnnVae(feature_dim=6, latent_dim=64,\n",
    "                                    first_channel_size=64, last_channel_size=512,\n",
    "                                    fc_dim=256).to(device)"
   ]
  },
  {
   "cell_type": "markdown",
   "id": "e69a35b6-0a0f-49b2-96bb-c9ab07aafbf1",
   "metadata": {},
   "source": [
    "# Train"
   ]
  },
  {
   "cell_type": "code",
   "execution_count": null,
   "id": "d61f42d2-9af2-46cb-ba63-a93a3da213cb",
   "metadata": {},
   "outputs": [
    {
     "name": "stderr",
     "output_type": "stream",
     "text": [
      "  1%|▌                                                   | 1/100 [02:20<3:52:10, 140.71s/it, kl=4.92e+01, nelbo=2.46e+03, rec=2.41e+03]"
     ]
    },
    {
     "name": "stdout",
     "output_type": "stream",
     "text": [
      "Saved to checkpoints/CnnVae/model-00000.pt\n"
     ]
    },
    {
     "name": "stderr",
     "output_type": "stream",
     "text": [
      "  2%|█                                                   | 2/100 [04:44<3:52:25, 142.30s/it, kl=6.37e+01, nelbo=1.80e+03, rec=1.74e+03]"
     ]
    },
    {
     "name": "stdout",
     "output_type": "stream",
     "text": [
      "Saved to checkpoints/CnnVae/model-00001.pt\n"
     ]
    },
    {
     "name": "stderr",
     "output_type": "stream",
     "text": [
      "  2%|█                                                   | 2/100 [05:43<3:52:25, 142.30s/it, kl=6.58e+01, nelbo=1.66e+03, rec=1.59e+03]"
     ]
    }
   ],
   "source": [
    "EPOCHS=100\n",
    "optimizer = torch.optim.Adam(model.parameters(), lr=1e-4)\n",
    "with tqdm.tqdm(total=EPOCHS) as pbar:\n",
    "    for epoch in range(EPOCHS):\n",
    "        for batch_id, (feat, _, _, _) in enumerate(train_loader):\n",
    "            feat = feat.to(device)\n",
    "            optimizer.zero_grad()\n",
    "            nelbo, kl, rec = model.negative_elbo_bound(feat)\n",
    "            nelbo.backward()\n",
    "            optimizer.step()\n",
    "            pbar.set_postfix(\n",
    "                nelbo='{:.2e}'.format(nelbo),\n",
    "                kl='{:.2e}'.format(kl),\n",
    "                rec='{:.2e}'.format(rec)\n",
    "            )\n",
    "        pbar.update(1)\n",
    "    \n",
    "        save_model_by_name(model, epoch)"
   ]
  }
 ],
 "metadata": {
  "kernelspec": {
   "display_name": "Python 3 (ipykernel)",
   "language": "python",
   "name": "python3"
  },
  "language_info": {
   "codemirror_mode": {
    "name": "ipython",
    "version": 3
   },
   "file_extension": ".py",
   "mimetype": "text/x-python",
   "name": "python",
   "nbconvert_exporter": "python",
   "pygments_lexer": "ipython3",
   "version": "3.10.12"
  }
 },
 "nbformat": 4,
 "nbformat_minor": 5
}
